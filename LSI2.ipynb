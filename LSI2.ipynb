{
 "cells": [
  {
   "cell_type": "code",
   "execution_count": 28,
   "metadata": {},
   "outputs": [],
   "source": [
    "import pandas as pd"
   ]
  },
  {
   "cell_type": "code",
   "execution_count": 29,
   "metadata": {},
   "outputs": [],
   "source": [
    "from random import randint\n",
    "from selenium import webdriver\n",
    "from selenium.webdriver.common.keys import Keys\n",
    "import time"
   ]
  },
  {
   "cell_type": "code",
   "execution_count": 27,
   "metadata": {},
   "outputs": [
    {
     "name": "stdout",
     "output_type": "stream",
     "text": [
      "11\n",
      "ekogroszek\n",
      "ekogroszek cena\n",
      "ekogroszek skarbek\n",
      "ekogroszek obi\n",
      "ekogroszek castorama\n",
      "ekogroszek ogień\n",
      "ekogroszek bartex\n",
      "ekogroszek workowany\n",
      "ekogroszek gdańsk\n",
      "ekogroszek wesoła\n",
      "\n",
      "11\n",
      "ekogroszek workowany\n",
      "ekogroszek workowany castorama\n",
      "ekogroszek workowany olx\n",
      "ekogroszek workowany obi\n",
      "ekogroszek workowany pieklorz\n",
      "ekogroszek workowany bartex\n",
      "ekogroszek workowany wesoła\n",
      "ekogroszek workowany stabek\n",
      "ekogroszek workowany adamex\n",
      "ekogroszek workowany ceny\n",
      "\n",
      "11\n",
      "ekogroszek cena\n",
      "ekogroszek cena starogard gdański\n",
      "ekogroszek cena za tonę\n",
      "ekogroszek cena obi\n",
      "ekogroszek cena za worek\n",
      "ekogroszek cena słupsk\n",
      "ekogroszek cena za tonę 2019\n",
      "ekogroszek cena 2019\n",
      "ekogroszek cena allegro\n",
      "ekogroszek cena 2018\n",
      "\n"
     ]
    }
   ],
   "source": [
    "from selenium.webdriver.common.by import By\n",
    "from selenium.webdriver.support.ui import WebDriverWait\n",
    "from selenium.webdriver.support import expected_conditions as EC\n",
    "\n",
    "keywords = pd.read_csv(\"./data/keywords.csv\")\n",
    "kwv = keywords['keyword'].values\n",
    "\n",
    "driver = webdriver.Firefox()\n",
    "driver.get(r\"https://google.pl\")\n",
    "q = driver.find_element_by_name(\"q\")\n",
    "\n",
    "for kw in kwv:\n",
    "    q.clear()\n",
    "    q.send_keys(kw)\n",
    "    time.sleep(randint(4,12))\n",
    "    podpowiedzi = driver.find_elements_by_class_name(\"sbct\")\n",
    "    print(len(podpowiedzi))\n",
    "    \n",
    "    for podpowiedz in podpowiedzi:\n",
    "        el = podpowiedz.find_element_by_css_selector(\"div.sbl1 span\")\n",
    "        print(el.text)\n",
    "        \n",
    "driver.close()"
   ]
  },
  {
   "cell_type": "code",
   "execution_count": null,
   "metadata": {},
   "outputs": [],
   "source": [
    "from selenium.webdriver.common.by import By\n",
    "from selenium.webdriver.support.ui import WebDriverWait\n",
    "from selenium.webdriver.support import expected_conditions as EC\n",
    "\n",
    "driver = webdriver.Firefox()\n",
    "driver.get(r\"https://google.pl\")\n",
    "q = driver.find_element_by_name(\"q\")\n",
    "q.clear()\n",
    "q.send_keys(\"ekogroszek cena za tonę\")\n",
    "time.sleep(3)\n",
    "podpowiedzi = driver.find_elements_by_class_name(\"sbct\")\n",
    "print(len(podpowiedzi))\n",
    "\n",
    "for podpowiedz in podpowiedzi:\n",
    "    el = podpowiedz.find_element_by_css_selector(\"div.sbl1 span\")\n",
    "    print(el.text)\n",
    "\n",
    "# el = podpowiedzi[1].find_elements_by_css_selector(\"div.sbl1 span\")\n",
    "# print(len(el))\n",
    "# print(podpowiedzi)\n",
    "# print(podpowiedzi[0])\n",
    "# print(podpowiedzi[0].text)\n",
    "# print(el)\n",
    "# print(el[0])\n",
    "# print(el[0].text)\n",
    "\n",
    "driver.close()"
   ]
  },
  {
   "cell_type": "code",
   "execution_count": 6,
   "metadata": {},
   "outputs": [
    {
     "name": "stdout",
     "output_type": "stream",
     "text": [
      "9\n",
      "ekogroszek cena za tonę 2019\n",
      "ekogroszek cena za tonę luzem\n",
      "ekogroszek cena za tonę\n",
      "ekogroszek cena za tonę 2017\n",
      "ekogroszek cena za tonę 2016\n",
      "ekogroszek cena za tonę allegro\n",
      "węgiel ekogroszek cena za tonę\n",
      "ekogroszek czeski cena za tonę\n",
      "\n"
     ]
    }
   ],
   "source": [
    "from selenium.webdriver.common.by import By\n",
    "from selenium.webdriver.support.ui import WebDriverWait\n",
    "from selenium.webdriver.support import expected_conditions as EC\n",
    "\n",
    "driver = webdriver.Firefox()\n",
    "driver.get(r\"https://google.pl\")\n",
    "q = driver.find_element_by_name(\"q\")\n",
    "q.clear()\n",
    "q.send_keys(\"ekogroszek cena za tonę\")\n",
    "time.sleep(1)\n",
    "podpowiedzi = driver.find_elements_by_class_name(\"sbct\")\n",
    "print(len(podpowiedzi))\n",
    "\n",
    "for podpowiedz in podpowiedzi:\n",
    "    el = podpowiedz.find_element_by_css_selector(\"div.sbl1 span\")\n",
    "    print(el.text)\n",
    "\n",
    "# el = podpowiedzi[1].find_elements_by_css_selector(\"div.sbl1 span\")\n",
    "# print(len(el))\n",
    "# print(podpowiedzi)\n",
    "# print(podpowiedzi[0])\n",
    "# print(podpowiedzi[0].text)\n",
    "# print(el)\n",
    "# print(el[0])\n",
    "# print(el[0].text)\n",
    "\n",
    "driver.close()"
   ]
  },
  {
   "cell_type": "code",
   "execution_count": null,
   "metadata": {},
   "outputs": [],
   "source": []
  }
 ],
 "metadata": {
  "kernelspec": {
   "display_name": "Python 3",
   "language": "python",
   "name": "python3"
  },
  "language_info": {
   "codemirror_mode": {
    "name": "ipython",
    "version": 3
   },
   "file_extension": ".py",
   "mimetype": "text/x-python",
   "name": "python",
   "nbconvert_exporter": "python",
   "pygments_lexer": "ipython3",
   "version": "3.7.2"
  }
 },
 "nbformat": 4,
 "nbformat_minor": 2
}
