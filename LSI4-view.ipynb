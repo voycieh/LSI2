{
 "cells": [
  {
   "cell_type": "code",
   "execution_count": 1,
   "metadata": {},
   "outputs": [],
   "source": [
    "import pandas as pd\n",
    "from random import randint, random\n",
    "from selenium import webdriver\n",
    "from selenium.webdriver.common.keys import Keys\n",
    "import time"
   ]
  },
  {
   "cell_type": "code",
   "execution_count": null,
   "metadata": {},
   "outputs": [],
   "source": [
    "from selenium.webdriver.common.by import By\n",
    "from selenium.webdriver.support.ui import WebDriverWait\n",
    "from selenium.webdriver.support import expected_conditions as EC\n",
    "from selenium.webdriver.firefox.options import Options\n",
    "\n",
    "keywords = pd.read_csv(\"./data/keywords.csv\")\n",
    "kwv = keywords['keyword'].values\n",
    "lsi_list_all =[]\n",
    "lsi_list = []\n",
    "#lsi_nan = []\n",
    "bigbrake = randint(30,120) + random()\n",
    "\n",
    "options = Options()\n",
    "options.headless = True\n",
    "driver = webdriver.Firefox()\n",
    "driver.get(r\"https://google.pl\")\n",
    "q = driver.find_element_by_name(\"q\")\n",
    "\n",
    "for kw in kwv:\n",
    "    lsi_list = []\n",
    "    lsi_list.append(kw)\n",
    "    q.clear()\n",
    "    q.send_keys(kw)\n",
    "    time.sleep(randint(4,12) + random())\n",
    "    podpowiedzi = driver.find_elements_by_class_name(\"sbct\")\n",
    "    if len(podpowiedzi) == 1:\n",
    "        driver.close()\n",
    "        time.sleep(bigbrake)\n",
    "        driver = webdriver.Firefox(options=options)\n",
    "        driver.get(r\"https://google.pl\")\n",
    "        q = driver.find_element_by_name(\"q\")\n",
    "        q.clear()\n",
    "        q.send_keys(kw)\n",
    "        time.sleep(randint(4,12) + random())\n",
    "        podpowiedzi = driver.find_elements_by_class_name(\"sbct\")\n",
    "    \n",
    "    lsi_list.append(len(podpowiedzi))\n",
    "   \n",
    "    \n",
    "    for podpowiedz in podpowiedzi:\n",
    "        el = podpowiedz.find_element_by_css_selector(\"div.sbl1 span\")\n",
    "        lsi_list.append(el.text)\n",
    "    lsi_list_all.append(lsi_list)\n",
    "    #lsi_list_all.append(lsi_nan)\n",
    "        \n",
    "driver.close()"
   ]
  },
  {
   "cell_type": "code",
   "execution_count": 4,
   "metadata": {},
   "outputs": [
    {
     "data": {
      "text/plain": [
       "(5, 13)"
      ]
     },
     "execution_count": 4,
     "metadata": {},
     "output_type": "execute_result"
    }
   ],
   "source": [
    "lsi_df = pd.DataFrame(lsi_list_all)\n",
    "lsi_df.shape"
   ]
  },
  {
   "cell_type": "code",
   "execution_count": null,
   "metadata": {},
   "outputs": [],
   "source": [
    "lsi_df"
   ]
  },
  {
   "cell_type": "code",
   "execution_count": 20,
   "metadata": {},
   "outputs": [],
   "source": [
    "export_csv = lsi_df.to_csv (r'/Users/voycieh/Projects/LSI2/data/export_dataframe.csv', index = None, header=True)"
   ]
  },
  {
   "cell_type": "code",
   "execution_count": null,
   "metadata": {},
   "outputs": [],
   "source": []
  }
 ],
 "metadata": {
  "kernelspec": {
   "display_name": "Python 3",
   "language": "python",
   "name": "python3"
  },
  "language_info": {
   "codemirror_mode": {
    "name": "ipython",
    "version": 3
   },
   "file_extension": ".py",
   "mimetype": "text/x-python",
   "name": "python",
   "nbconvert_exporter": "python",
   "pygments_lexer": "ipython3",
   "version": "3.7.3"
  }
 },
 "nbformat": 4,
 "nbformat_minor": 2
}
