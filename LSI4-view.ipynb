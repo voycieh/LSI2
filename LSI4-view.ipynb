{
 "cells": [
  {
   "cell_type": "code",
   "execution_count": 11,
   "metadata": {},
   "outputs": [],
   "source": [
    "import pandas as pd\n",
    "from random import randint, random\n",
    "from selenium import webdriver\n",
    "from selenium.webdriver.common.keys import Keys\n",
    "import time"
   ]
  },
  {
   "cell_type": "code",
   "execution_count": 12,
   "metadata": {},
   "outputs": [],
   "source": [
    "from selenium.webdriver.common.by import By\n",
    "from selenium.webdriver.support.ui import WebDriverWait\n",
    "from selenium.webdriver.support import expected_conditions as EC\n",
    "from selenium.webdriver.firefox.options import Options"
   ]
  },
  {
   "cell_type": "code",
   "execution_count": 13,
   "metadata": {},
   "outputs": [],
   "source": [
    "keywords = pd.read_csv(\"./data/keywords.csv\")\n",
    "kwv = keywords['keyword'].values\n",
    "lsi_list_all =[]\n",
    "lsi_list = []\n",
    "i = 0\n",
    "i_max = randint(10,15)\n",
    "\n",
    "options = Options()\n",
    "options.headless = True\n",
    "driver = webdriver.Firefox()\n",
    "driver.get(r\"https://google.com\")\n",
    "q = driver.find_element_by_name(\"q\")\n",
    "\n",
    "for kw in kwv:\n",
    "    i = i+1\n",
    "    if i == i_max:\n",
    "        i = 0\n",
    "        i_max = randint(10,15)\n",
    "        driver.close()\n",
    "        time.sleep(randint(2,4) + random())\n",
    "        options = Options()\n",
    "        options.headless = True\n",
    "        driver = webdriver.Firefox()\n",
    "        driver.get(r\"https://google.com\")\n",
    "        q = driver.find_element_by_name(\"q\")\n",
    "        \n",
    "    lsi_list = []\n",
    "    lsi_list.append(kw)\n",
    "    q.clear()\n",
    "    q.send_keys(kw)\n",
    "    time.sleep(randint(2,4) + random())\n",
    "    podpowiedzi = driver.find_elements_by_class_name(\"sbct\")\n",
    "\n",
    "    lsi_list.append(len(podpowiedzi))\n",
    "\n",
    "    for podpowiedz in podpowiedzi:\n",
    "        el = podpowiedz.find_element_by_css_selector(\"div.sbl1 span\")\n",
    "        lsi_list.append(el.text)\n",
    "    lsi_list_all.append(lsi_list)\n",
    "driver.close()\n",
    "lsi_df = pd.DataFrame(lsi_list_all)\n",
    "export_csv = lsi_df.to_csv (r'./data/export_dataframe.csv', index = None, header=True)"
   ]
  },
  {
   "cell_type": "code",
   "execution_count": null,
   "metadata": {},
   "outputs": [],
   "source": []
  }
 ],
 "metadata": {
  "kernelspec": {
   "display_name": "Python 3",
   "language": "python",
   "name": "python3"
  },
  "language_info": {
   "codemirror_mode": {
    "name": "ipython",
    "version": 3
   },
   "file_extension": ".py",
   "mimetype": "text/x-python",
   "name": "python",
   "nbconvert_exporter": "python",
   "pygments_lexer": "ipython3",
   "version": "3.7.3"
  }
 },
 "nbformat": 4,
 "nbformat_minor": 2
}
